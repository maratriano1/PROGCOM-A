{
  "nbformat": 4,
  "nbformat_minor": 0,
  "metadata": {
    "colab": {
      "provenance": []
    },
    "kernelspec": {
      "name": "python3",
      "display_name": "Python 3"
    },
    "language_info": {
      "name": "python"
    }
  },
  "cells": [
    {
      "cell_type": "code",
      "execution_count": null,
      "metadata": {
        "id": "gH0a7aM5L9Q8"
      },
      "outputs": [],
      "source": [
        "def caderazo():\n",
        "  for rep in range (3):\n",
        "    for m in range(2):\n",
        "      print(f\"Mover la cadera a la derecha\")\n",
        "    for n in range (2):\n",
        "      print(f\"Mover la cadera a la izquierda\")"
      ]
    },
    {
      "cell_type": "code",
      "source": [],
      "metadata": {
        "id": "8YD-8idPSelG"
      },
      "execution_count": null,
      "outputs": []
    },
    {
      "cell_type": "code",
      "source": [
        "caderazo()"
      ],
      "metadata": {
        "colab": {
          "base_uri": "https://localhost:8080/"
        },
        "id": "PtnGC3SgMXMD",
        "outputId": "eaf29004-026b-4163-f2f2-a7eed401daa5"
      },
      "execution_count": null,
      "outputs": [
        {
          "output_type": "stream",
          "name": "stdout",
          "text": [
            "Mover la cadera a la derecha\n",
            "Mover la cadera a la derecha\n",
            "Mover la cadera a la izquierda\n",
            "Mover la cadera a la izquierda\n",
            "Mover la cadera a la derecha\n",
            "Mover la cadera a la derecha\n",
            "Mover la cadera a la izquierda\n",
            "Mover la cadera a la izquierda\n",
            "Mover la cadera a la derecha\n",
            "Mover la cadera a la derecha\n",
            "Mover la cadera a la izquierda\n",
            "Mover la cadera a la izquierda\n"
          ]
        }
      ]
    },
    {
      "cell_type": "code",
      "source": [
        "for rep in range (3):\n",
        "    for m in range(2):\n",
        "      print(f\"Mover la cadera a la derecha\")\n",
        "    for n in range (2):\n",
        "      print(f\"Mover la cadera a la izquierda\")"
      ],
      "metadata": {
        "colab": {
          "base_uri": "https://localhost:8080/"
        },
        "id": "WnufpU-yOVFK",
        "outputId": "28efd0b4-523d-44b4-9a75-e16c992b1197"
      },
      "execution_count": null,
      "outputs": [
        {
          "output_type": "stream",
          "name": "stdout",
          "text": [
            "Mover la cadera a la derecha\n",
            "Mover la cadera a la derecha\n",
            "Mover la cadera a la izquierda\n",
            "Mover la cadera a la izquierda\n",
            "Mover la cadera a la derecha\n",
            "Mover la cadera a la derecha\n",
            "Mover la cadera a la izquierda\n",
            "Mover la cadera a la izquierda\n",
            "Mover la cadera a la derecha\n",
            "Mover la cadera a la derecha\n",
            "Mover la cadera a la izquierda\n",
            "Mover la cadera a la izquierda\n"
          ]
        }
      ]
    },
    {
      "cell_type": "code",
      "source": [
        "for sab in range (1):\n",
        "  print (f\"Realizar movimiento de sablazo\")"
      ],
      "metadata": {
        "colab": {
          "base_uri": "https://localhost:8080/"
        },
        "id": "1TybM1NIObhi",
        "outputId": "646f90b4-45bc-4e07-de0b-d9a8ecc296f4"
      },
      "execution_count": null,
      "outputs": [
        {
          "output_type": "stream",
          "name": "stdout",
          "text": [
            "Realizar movimiento de sablazo\n"
          ]
        }
      ]
    }
  ]
}