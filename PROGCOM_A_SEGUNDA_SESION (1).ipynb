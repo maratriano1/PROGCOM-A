{
  "nbformat": 4,
  "nbformat_minor": 0,
  "metadata": {
    "colab": {
      "provenance": []
    },
    "kernelspec": {
      "name": "python3",
      "display_name": "Python 3"
    },
    "language_info": {
      "name": "python"
    }
  },
  "cells": [
    {
      "cell_type": "code",
      "execution_count": null,
      "metadata": {
        "id": "-34kTTSWIrkf"
      },
      "outputs": [],
      "source": []
    },
    {
      "cell_type": "markdown",
      "source": [
        "**Switches**\n",
        "\n",
        "Estructuras de selección que sirven para evaluar más de una condición de verdad y ofrecer diferentes evaluaciones de verdad\n",
        "\n",
        "if (condición):\n",
        "  Aquí entra si la condición es verdadera\n",
        "\n",
        "elif (condición2):\n",
        "  Aquí entra si la condición2 es verdadera\n",
        "\n",
        "elif (condición3):\n",
        "  Aquí entra si la condición3 es verdadera\n",
        "\n",
        "else:\n",
        "  Aquí va cuando ninguna de las condiciones es verdadera\n",
        "\n",
        "**Versión 2:**\n",
        "\n",
        "match(variable):\n",
        "  case(valor):\n",
        "    aqui pasa algo si variable = valor\n",
        "  \n",
        "  case(valor2):\n",
        "    aqui pasa algo si variable = valor2\n",
        "  \n",
        "  case(valor3):\n",
        "    aqui pasa algo si variable = valor3\n",
        "  \n",
        "  case(valorn):\n",
        "    aqui pasa algo si variable = valorn\n",
        "  \n",
        "  case_: Ninguna de las anteriores\n",
        "recuerda == es comparar, = asignar"
      ],
      "metadata": {
        "id": "dxqfVNnjIse5"
      }
    },
    {
      "cell_type": "code",
      "source": [
        "#elegir un sabor de helado\n",
        "opc=input(\"Elije un sabor de helado: \")\n",
        "\n",
        "if opc== \"oreo\":\n",
        "  print(f\"usted eligió {opc} y debe pagar $3500\")\n",
        "\n",
        "elif opc== \"frutos del bosque\":\n",
        "  print(f\"usted eligió {opc} y debe pagar $3500\")\n",
        "\n",
        "elif opc== \"menta con chocolate\":\n",
        "  print(f\"usted eligió {opc} y debe pagar $5000\")\n",
        "\n",
        "elif opc== \"cookie monster\":\n",
        "  print(f\"usted eligió {opc} y debe pagar $5500\")\n",
        "\n",
        "else:\n",
        "  print(f\"No tenemos ese sabor :(\")"
      ],
      "metadata": {
        "id": "IHdjYpSUMK2v"
      },
      "execution_count": null,
      "outputs": []
    },
    {
      "cell_type": "markdown",
      "source": [
        "Elije un sabor de helado: macadamia\n",
        "\n",
        "No tenemos ese sabor :("
      ],
      "metadata": {
        "id": "K8-IyO3jMiB-"
      }
    },
    {
      "cell_type": "code",
      "source": [
        "match opc:\n",
        "  case \"oreo\":\n",
        "    print(f\"usted eligió {opc} y debe pagar $3500\")\n",
        "\n",
        "  case \"frutos del bosque\":\n",
        "    print(f\"usted eligió {opc} y debe pagar $3500\")\n",
        "\n",
        "  case \"menta con chocolate\":\n",
        "    print(f\"usted eligió {opc} y debe pagar $5000\")\n",
        "\n",
        "  case \"cookie monster\":\n",
        "    print(f\"usted eligió {opc} y debe pagar $5500\")\n",
        "\n",
        "  case _:\n",
        "    print(f\"No tenemos ese sabor :(\")"
      ],
      "metadata": {
        "id": "_AGwPe19MlA-"
      },
      "execution_count": null,
      "outputs": []
    },
    {
      "cell_type": "markdown",
      "source": [
        "usted eligió oreo y debe pagar $3500\n",
        "\n",
        "\n"
      ],
      "metadata": {
        "id": "i7VjzMfcMzU2"
      }
    },
    {
      "cell_type": "code",
      "source": [
        "#Desarrolla un programa que determine si un número es par o impar.\n",
        "#elif\n",
        "num= int(input(\"Ingrese un número.\"))\n",
        "if num%2==0:\n",
        "  prin(f\"{num} es par\")\n",
        "\n",
        "else:\n",
        "  print(f\"{num} es impar\")\n",
        ""
      ],
      "metadata": {
        "id": "JZXLpML4NA5-"
      },
      "execution_count": null,
      "outputs": []
    },
    {
      "cell_type": "markdown",
      "source": [
        "Ingrese un número.3\n",
        "\n",
        "3 es impar"
      ],
      "metadata": {
        "id": "306LsvS3NOx-"
      }
    },
    {
      "cell_type": "code",
      "source": [
        "#Desarrolla un programa que determine si un número es par o impar.\n",
        "#case\n",
        "match num%2:\n",
        "  case 0:\n",
        "    print(f\"{num} es par\")\n",
        "\n",
        "  case _:\n",
        "    print(f\"{num} es impar\")\n",
        ""
      ],
      "metadata": {
        "id": "ipnuJKxtNSZv"
      },
      "execution_count": null,
      "outputs": []
    },
    {
      "cell_type": "markdown",
      "source": [
        "3 es impar"
      ],
      "metadata": {
        "id": "h_zSXzI7NYme"
      }
    },
    {
      "cell_type": "code",
      "source": [
        "#Crea un programa que determine si un año es bisiesto (divisible por 4 y no por 100, o divisible por 400).\n",
        "#elif\n",
        "año= int(input(\"Ingrese un año.\"))\n",
        "if año%4==0 and año%100!=0 or año%400==0:\n",
        "  print(f\"{año} es bisiesto\")\n",
        "\n",
        "else:\n",
        "  print(f\"{año} no es bisiesto\")"
      ],
      "metadata": {
        "id": "5HtGR-oqNbQ2"
      },
      "execution_count": null,
      "outputs": []
    },
    {
      "cell_type": "markdown",
      "source": [
        "Ingrese un año.1980\n",
        "\n",
        "1980 es bisiesto\n"
      ],
      "metadata": {
        "id": "LV_QSp9NNhZu"
      }
    },
    {
      "cell_type": "code",
      "source": [
        "#Crea un programa que determine si un año es bisiesto (divisible por 4 y no por 100, o divisible por 400).\n",
        "#case\n",
        "match año%4:\n",
        "  case 0:\n",
        "    print(f\"{año} es bisiesto\")\n",
        "\n",
        "  case _:\n",
        "    print(f\"{año} no es bisiesto\")\n",
        ""
      ],
      "metadata": {
        "id": "nek41skMNn7u"
      },
      "execution_count": null,
      "outputs": []
    },
    {
      "cell_type": "markdown",
      "source": [
        "1980 es bisiesto\n"
      ],
      "metadata": {
        "id": "H4V1kkhSNrX1"
      }
    },
    {
      "cell_type": "code",
      "source": [
        "#Escribe un programa que solicite el nombre del usuario y determine si una persona pertenece a la tercera edad (70 años o más) y si se cumple la condición, imprima que se le da prioridad en la fila.\n",
        "#elif\n",
        "nom= input(\"Ingrese su nombre \")\n",
        "edad= int(input(\"Ingrese su edad \"))\n",
        "\n",
        "if edad>=70:\n",
        "  print(f\"{nom} usted tiene prioridad en la fila\")\n",
        "\n",
        "else:\n",
        "  print(f\"{nom} no tiene prioridad en la fila, espere\")\n",
        ""
      ],
      "metadata": {
        "id": "cVZcVRbFNtg-"
      },
      "execution_count": null,
      "outputs": []
    },
    {
      "cell_type": "markdown",
      "source": [
        "Ingrese su nombre raul\n",
        "\n",
        "Ingrese su edad 76\n",
        "\n",
        "raul usted tiene prioridad en la fila"
      ],
      "metadata": {
        "id": "prch123lN2XV"
      }
    },
    {
      "cell_type": "code",
      "source": [
        "#Escribe un programa que solicite el nombre del usuario y determine si una persona pertenece a la tercera edad (70 años o más) y si se cumple la condición, imprima que se le da prioridad en la fila.\n",
        "#case\n",
        "match edad>=70:\n",
        "  case True:\n",
        "    print(f\"{nom} usted tiene prioridad en la fila\")\n",
        "\n",
        "  case _:\n",
        "    print(f\"{nom} no tiene prioridad en la fila, espere\")"
      ],
      "metadata": {
        "id": "AQ0kA1KKN9Z-"
      },
      "execution_count": null,
      "outputs": []
    },
    {
      "cell_type": "markdown",
      "source": [
        "raul usted tiene prioridad en la fila"
      ],
      "metadata": {
        "id": "7XVxWhRXOEau"
      }
    },
    {
      "cell_type": "code",
      "source": [
        "#Desarrolla un programa que compare tres números y muestre el mayor.\n",
        "#elif\n",
        "n1= int(input(\"Ingrese el primer número.\"))\n",
        "n2= int(input(\"Ingrese el segundo número.\"))\n",
        "n3= int(input(\"Ingrese el tercer número.\"))\n",
        "\n",
        "if n1>n2 and n1>n3:\n",
        "  print(f\"{n1} es el número mayor\")\n",
        "\n",
        "elif n2>n1 and n2>n3:\n",
        "  print(f\"{n2} es el número mayor\")\n",
        "\n",
        "elif n3>n1 and n3>n2:\n",
        "  print(f\"{n3} es el número mayor\")\n",
        "\n",
        "elif n1==n2 and n2n3:\n",
        "  print(f\"{n1} y {n2} son iguales, el número mayor es {n1} y el menor {n3}\")\n",
        "\n",
        "elif n1==n3 and n3>n2:\n",
        "  print(f\"{n1} y {n3} son iguales, el número mayor es {n1} y el menor {n2}\")\n",
        "\n",
        "elif n2==n3 and n3>n1:\n",
        "  print(f\"{n2} y {n3} son iguales, el número mayor es {n2} y el menor {n1}\")\n",
        "\n",
        "else:\n",
        "  print(\"Todos los números son iguales\")\n",
        ""
      ],
      "metadata": {
        "id": "hoNWWtahOK13"
      },
      "execution_count": null,
      "outputs": []
    },
    {
      "cell_type": "markdown",
      "source": [
        "Ingrese el primer número.1\n",
        "\n",
        "Ingrese el segundo número.0\n",
        "\n",
        "Ingrese el tercer número.1\n",
        "\n",
        "1 y 1 son iguales, el número mayor es 1 y el menor 0"
      ],
      "metadata": {
        "id": "gyR8CiLzOL5F"
      }
    },
    {
      "cell_type": "code",
      "source": [
        "#Desarrolla un programa que compare tres números y muestre el mayor.\n",
        "#case\n",
        "n1= int(input(\"Ingrese el primer número.\"))\n",
        "n2= int(input(\"Ingrese el segundo número.\"))\n",
        "n3= int(input(\"Ingrese el tercer número.\"))\n",
        "\n",
        "match (n1,n2,n3):\n",
        "  case (n1,n2,n3) if n1>n2 and n1>n3:\n",
        "    print(f\"{n1} es el número mayor\")\n",
        "\n",
        "  case (n1,n2,n3) if n2>n1 and n2>n3:\n",
        "    print(f\"{n2} es el número mayor\")\n",
        "\n",
        "  case (n1,n2,n3) if n3>n1 and n3>n2:\n",
        "    print(f\"{n3} es el número mayor\")\n",
        "\n",
        "  case (n1,n2,n3) if n1==n2 and n2n3:\n",
        "    print(f\"{n1} y {n2} son iguales, el número mayor es {n1} y el menor {n3}\")\n",
        "\n",
        "  case (n1,n2,n3) if n1==n3 and n3>n2:\n",
        "    print(f\"{n1} y {n3} son iguales, el número mayor es {n1} y el menor {n2}\")\n",
        "\n",
        "  case (n1,n2,n3) if n2==n3 and n3>n1:\n",
        "    print(f\"{n2} y {n3} son iguales, el número mayor es {n2} y el menor {n1}\")\n",
        "\n",
        "  case _:\n",
        "    print(\"Todos los números son iguales\")"
      ],
      "metadata": {
        "id": "Z8avBwq0OTEe"
      },
      "execution_count": null,
      "outputs": []
    },
    {
      "cell_type": "markdown",
      "source": [
        "Ingrese el primer número.0\n",
        "\n",
        "Ingrese el segundo número.1\n",
        "\n",
        "Ingrese el tercer número.2\n",
        "\n",
        "2 es el número mayor"
      ],
      "metadata": {
        "id": "6rkOB4h2OXb-"
      }
    },
    {
      "cell_type": "code",
      "source": [
        "#Crea un programa que determine si un triángulo es equilátero, isósceles o escaleno según sus lados.\n",
        "#elif\n",
        "l1= int(input(\"Ingrese el primer lado.\"))\n",
        "l2= int(input(\"Ingrese el segundo lado.\"))\n",
        "l3= int(input(\"Ingrese el tercer lado.\"))\n",
        "\n",
        "if l1==l2 and l2==l3:\n",
        "  print(\"El triángulo es equilátero\")\n",
        "\n",
        "elif l1 != l2 and l2 != l3 and l1 != l3:\n",
        "  print(\"El triángulo es escaleno\")\n",
        "\n",
        "else:\n",
        "  print(\"El triángulo es isósceles\")"
      ],
      "metadata": {
        "id": "l-B2WBfUObUm"
      },
      "execution_count": null,
      "outputs": []
    },
    {
      "cell_type": "markdown",
      "source": [
        "Ingrese el primer lado.3\n",
        "\n",
        "Ingrese el segundo lado.3\n",
        "\n",
        "Ingrese el tercer lado.3\n",
        "\n",
        "El triángulo es equilátero"
      ],
      "metadata": {
        "id": "nHq6jU1UOeYu"
      }
    },
    {
      "cell_type": "code",
      "source": [
        "#Crea un programa que determine si un triángulo es equilátero, isósceles o escaleno según sus lados.\n",
        "#case\n",
        "#ESTÁ BIEN ASÍ?????\n",
        "match (l1,l2,l3):\n",
        "  case (l1,l2,l3) if l1==l2 and l2==l3:\n",
        "    print(\"El triángulo es equilátero\")\n",
        "\n",
        "  case (l1,l2,l3) if l1 != l2 and l2 != l3 and l1 != l3:\n",
        "    print(\"El triángulo es escaleno\")\n",
        "\n",
        "  case _:\n",
        "    print(\"El triángulo es isósceles\")\n",
        ""
      ],
      "metadata": {
        "id": "mT1E6HhSOiwu"
      },
      "execution_count": null,
      "outputs": []
    },
    {
      "cell_type": "markdown",
      "source": [
        "El triángulo es :equilátero"
      ],
      "metadata": {
        "id": "vf865A6gOlgV"
      }
    }
  ]
}